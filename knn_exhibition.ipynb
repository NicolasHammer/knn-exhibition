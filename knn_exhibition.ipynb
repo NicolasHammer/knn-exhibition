{
 "metadata": {
  "language_info": {
   "codemirror_mode": {
    "name": "ipython",
    "version": 3
   },
   "file_extension": ".py",
   "mimetype": "text/x-python",
   "name": "python",
   "nbconvert_exporter": "python",
   "pygments_lexer": "ipython3",
   "version": "3.8.5-final"
  },
  "orig_nbformat": 2,
  "kernelspec": {
   "name": "python3",
   "display_name": "Python 3.8.5 64-bit",
   "metadata": {
    "interpreter": {
     "hash": "082e9a3bcad0a290d0001e938aa60b99250c6c2ef33a923c00b70f9826caf4b7"
    }
   }
  }
 },
 "nbformat": 4,
 "nbformat_minor": 2,
 "cells": [
  {
   "source": [
    "# KNN Exhibition"
   ],
   "cell_type": "markdown",
   "metadata": {}
  },
  {
   "cell_type": "code",
   "execution_count": 1,
   "metadata": {},
   "outputs": [],
   "source": [
    "# Import packages used throughout\n",
    "import numpy as np\n",
    "import matplotlib.pyplot as plt\n",
    "from csv import reader\n",
    "\n",
    "from sklearn import model_selection\n",
    "from from_scratch.import_data import train_test_split"
   ]
  },
  {
   "source": [
    "## Part 1: Class Prediction"
   ],
   "cell_type": "markdown",
   "metadata": {}
  },
  {
   "cell_type": "code",
   "execution_count": 2,
   "metadata": {},
   "outputs": [],
   "source": [
    "# Step 0: Import the necessary classes\n",
    "from from_scratch.knn import KNN\n",
    "from sklearn.neighbors import KNeighborsClassifier\n",
    "from sklearn.datasets import make_blobs"
   ]
  },
  {
   "source": [
    "### Section 1a: Blobs"
   ],
   "cell_type": "markdown",
   "metadata": {}
  },
  {
   "cell_type": "code",
   "execution_count": null,
   "metadata": {},
   "outputs": [],
   "source": [
    "# Step 1: Import data\n",
    "centers = [(-2, -2, -2), (-2, 2, 2), (2, 2, 2)]\n",
    "clusters_std = [2, 2, 2]\n",
    "\n",
    "features, targets = make_blobs(n_samples=90, \n",
    "                               cluster_std=clusters_std,\n",
    "                               centers=centers,\n",
    "                               n_features=3)"
   ]
  },
  {
   "cell_type": "code",
   "execution_count": null,
   "metadata": {},
   "outputs": [],
   "source": [
    "# Step 2: Definite viasualization function\n",
    "def visualize_blobs(train_features, train_targets, test_features, test_targets, predictions):\n",
    "    ax = plt.axes(projection=\"3d\")\n",
    "\n",
    "    ### Training data\n",
    "    train_cluster0 = train_features[:, train_targets[0, :] == 0]\n",
    "    train_cluster1 = train_features[:, train_targets[0, :] == 1]\n",
    "    train_cluster2 = train_features[:, train_targets[0, :] == 2]\n",
    "\n",
    "    ### Correct predictions for each of the three classes\n",
    "    test_cluster0_true = test_features[:, np.logical_and(predictions[0, :] == 0,\n",
    "     test_targets[0, :] == 0)]\n",
    "    test_cluster1_true = test_features[:, np.logical_and(predictions[0, :] == 1,\n",
    "     test_targets[0, :] == 1)]\n",
    "    test_cluster2_true = test_features[:, np.logical_and(predictions[0, :] == 2,\n",
    "     test_targets[0, :] == 2)]\n",
    "\n",
    "    ### Incorrect predictions for each of the three classes\n",
    "    test_cluster0_false = test_features[:, np.logical_and(predictions[0, :] == 0,\n",
    "          test_targets[0, :] != 0)]\n",
    "    test_cluster1_false = test_features[:, np.logical_and(predictions[0, :] == 1,\n",
    "          test_targets[0, :] != 1)]\n",
    "    test_cluster2_false = test_features[:, np.logical_and(predictions[0, :] == 2,\n",
    "          test_targets[0, :] != 2)]\n",
    "\n",
    "    ### Class 1 scatterplots\n",
    "    ax.scatter(train_cluster0[0, :], train_cluster0[1, :], train_cluster0[2, :],\n",
    "        c='b', marker='o', label=\"Class 1 - Training\")\n",
    "    ax.scatter(test_cluster0_true[0, :], test_cluster0_true[1, :], test_cluster0_true[2, :],\n",
    "        c='b', marker='D', label=\"Class 1 - Predicted (Correct)\")\n",
    "    ax.scatter(test_cluster0_false[0, :], test_cluster0_false[1,:], test_cluster0_false[2, :],\n",
    "        c='b', marker='x', label=\"Class 1 - Predicted (Incorrect)\")\n",
    "\n",
    "    ### Class 2 scatterplots\n",
    "    ax.scatter(train_cluster1[0, :], train_cluster1[1, :], train_cluster1[2, :],\n",
    "        c='g', marker='o', label=\"Class 2 - Training\")\n",
    "    ax.scatter(test_cluster1_true[0, :], test_cluster1_true[1,:], test_cluster1_true[2, :],\n",
    "        c='g', marker='D', label=\"Class 2 - Predicted (Correct)\")\n",
    "    ax.scatter(test_cluster1_false[0, :], test_cluster1_false[1,:], test_cluster1_false[2, :],\n",
    "        c='g', marker='x', label=\"Class 2 - Predicted (Incorrect)\")\n",
    "\n",
    "    ### Class 3 scatterplots\n",
    "    ax.scatter(train_cluster2[0, :], train_cluster2[1, :], train_cluster2[2, :],\n",
    "        c='r', marker='o', label=\"Class 3 - Training\")\n",
    "    ax.scatter(test_cluster2_true[0, :], test_cluster2_true[1,:], test_cluster2_true[2, :],\n",
    "        c='r', marker='D', label=\"Class 3 - Predicted (Correct)\")\n",
    "    ax.scatter(test_cluster2_false[0, :], test_cluster2_false[1,:], test_cluster2_false[2, :],\n",
    "        c='r', marker='x', label=\"Class 3 - Predicted (Incorrect)\")\n",
    "\n",
    "    ### Set up plot\n",
    "    ax.legend(bbox_to_anchor=(-0.35, 1), loc=\"upper left\", fontsize=\"xx-small\")\n",
    "    ax.set_title(\"Feature 3 over (Feature 1, Feature 2) with Class Predictions\")\n",
    "    ax.set_xlabel(\"Feature 1\", fontsize = 12)\n",
    "    ax.set_ylabel(\"Feature 2\", fontsize = 12)\n",
    "    ax.set_zlabel(\"Feature 3\", fontsize = 12)\n",
    "    plt.show()"
   ]
  },
  {
   "source": [
    "#### From Scratch Implementation"
   ],
   "cell_type": "markdown",
   "metadata": {}
  },
  {
   "cell_type": "code",
   "execution_count": null,
   "metadata": {},
   "outputs": [],
   "source": [
    "# Step 2: Extract training and test features/targets\n",
    "train_features, train_targets, test_features, test_targets = train_test_split(\n",
    "    features.T, targets.reshape((1, targets.shape[0])))"
   ]
  },
  {
   "cell_type": "code",
   "execution_count": null,
   "metadata": {},
   "outputs": [],
   "source": [
    "# Step 3: Fit a KNN model to the data and visualize\n",
    "# %matplotlib qt <- ENABLE TO ROTATE\n",
    "%matplotlib inline\n",
    "\n",
    "## Create and fit model\n",
    "model = KNN(n_neighbors = 4)\n",
    "model.fit(train_features, train_targets)\n",
    "predictions = model.predict(test_features)\n",
    "\n",
    "## Visualize\n",
    "visualize_blobs(train_features, train_targets, test_features, test_targets, predictions)"
   ]
  },
  {
   "source": [
    "#### Scikit Implementation"
   ],
   "cell_type": "markdown",
   "metadata": {}
  },
  {
   "cell_type": "code",
   "execution_count": null,
   "metadata": {},
   "outputs": [],
   "source": [
    "# Step 2: Extract training and test features/targets\n",
    "train_features, test_features, train_targets, test_targets = model_selection.train_test_split(features, targets, train_size = 0.8, test_size = 0.2)"
   ]
  },
  {
   "cell_type": "code",
   "execution_count": null,
   "metadata": {},
   "outputs": [],
   "source": [
    "# Step 3: Fit a KNN model to the data and visualize\n",
    "# %matplotlib qt <- ENABLE TO ROTATE\n",
    "%matplotlib inline\n",
    "\n",
    "## Create and fit model\n",
    "model = KNeighborsClassifier(n_neighbors = 4, metric = \"euclidean\")\n",
    "model.fit(train_features, train_targets)\n",
    "predictions = model.predict(test_features)\n",
    "\n",
    "## Visualize\n",
    "visualize_blobs(train_features.T,\n",
    " train_targets.reshape((1, train_targets.shape[0])),\n",
    " test_features.T,\n",
    " test_targets.reshape((1, test_targets.shape[0])),\n",
    " predictions.reshape((1, predictions.shape[0])))"
   ]
  },
  {
   "source": [
    "### Section 2a: IRIS.csv"
   ],
   "cell_type": "markdown",
   "metadata": {}
  },
  {
   "cell_type": "code",
   "execution_count": 18,
   "metadata": {},
   "outputs": [],
   "source": [
    "# Step 1: Import \"IRIS.csv\"\n",
    "with open(\"IRIS.csv\", 'r') as file:\n",
    "    csv_reader = reader(file)\n",
    "    feature_names = list(next(csv_reader))\n",
    "    data = np.array(list(csv_reader))"
   ]
  },
  {
   "cell_type": "code",
   "execution_count": 19,
   "metadata": {},
   "outputs": [],
   "source": [
    "# Step 2: Wrangle data\n",
    "feature_names = feature_names[:-1]\n",
    "features = data[:,:-1].astype(\"float\").T\n",
    "targets = data[:,-1]\n",
    "targets = targets.reshape((1, targets.shape[0]))"
   ]
  },
  {
   "source": [
    "#### From Scratch Implementation"
   ],
   "cell_type": "markdown",
   "metadata": {}
  },
  {
   "cell_type": "code",
   "execution_count": 20,
   "metadata": {},
   "outputs": [],
   "source": [
    "# Step 3: Extract traing and test features/targets\n",
    "train_features, train_targets, test_features, test_targets = train_test_split(features, targets)"
   ]
  },
  {
   "cell_type": "code",
   "execution_count": 21,
   "metadata": {},
   "outputs": [
    {
     "output_type": "stream",
     "name": "stdout",
     "text": [
      "Accuracy = 96.66666666666667%\n"
     ]
    }
   ],
   "source": [
    "# Step 4: Fit a KNN model to the data and predict values\n",
    "model = KNN(n_neighbors=5)\n",
    "model.fit(train_features, train_targets)\n",
    "predictions = model.predict(test_features)\n",
    "\n",
    "print(\"Accuracy = \" + str(100 * np.sum(predictions == test_targets)/predictions.shape[1]) + \"%\")"
   ]
  },
  {
   "source": [
    "Scikit  Implementation"
   ],
   "cell_type": "markdown",
   "metadata": {}
  },
  {
   "cell_type": "code",
   "execution_count": 24,
   "metadata": {},
   "outputs": [],
   "source": [
    "# Step 3: Extract training and test features/targets\n",
    "train_features, test_features, train_targets, test_targets = model_selection.train_test_split(features.T, targets.T, train_size = 0.8, test_size = 0.2)"
   ]
  },
  {
   "cell_type": "code",
   "execution_count": 25,
   "metadata": {},
   "outputs": [
    {
     "output_type": "stream",
     "name": "stdout",
     "text": [
      "Accuracy = 96.66666666666667%\n"
     ]
    }
   ],
   "source": [
    "# Step 4: Fit a KNN model to the data and predict values\n",
    "model = KNeighborsClassifier(n_neighbors = 4, metric = \"euclidean\")\n",
    "model.fit(train_features, train_targets)\n",
    "predictions = model.predict(test_features)\n",
    "\n",
    "print(\"Accuracy = \" + str(100 * np.sum(predictions == test_targets.flatten())/predictions.shape[0]) + \"%\")"
   ]
  },
  {
   "source": [
    "## Part 2: Collaborative Filter"
   ],
   "cell_type": "markdown",
   "metadata": {}
  },
  {
   "cell_type": "code",
   "execution_count": null,
   "metadata": {},
   "outputs": [],
   "source": []
  }
 ]
}